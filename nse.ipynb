{
 "cells": [
  {
   "cell_type": "code",
   "execution_count": 1,
   "id": "60cf541c",
   "metadata": {},
   "outputs": [],
   "source": [
    "import pynucastro as pyna\n",
    "import numpy as np\n",
    "import matplotlib.pyplot as plt"
   ]
  },
  {
   "cell_type": "code",
   "execution_count": 2,
   "id": "cadc493b",
   "metadata": {},
   "outputs": [],
   "source": [
    "library = pyna.ReacLibLibrary()\n",
    "\n",
    "sub = library.linking_nuclei([\"p\",\"n\",\"he3\",\"he4\",\"c12\",\"c13\",\"n13\",\"n14\",\"o14\",\"o15\",\n",
    "                             \"o16\",\"o17\",\"o18\",\"f17\",\"f18\",\"f19\",\"ne18\",\"ne19\",\"ne20\",\n",
    "                             \"mg22\",\"mg24\",\"al27\",\"si28\",\"p31\",\"s32\",\"cl35\",\n",
    "                             \"ar36\",\"k39\",\"ca40\",\"ti44\",\"cr48\",\"cr49\",\"cr50\",\"cr51\",\n",
    "                             \"cr52\",\"cr53\",\"cr54\",\"fe52\",\"fe54\",\"fe55\",\"fe56\",\"fe57\",\n",
    "                             \"fe58\",\"co53\",\"co55\",\"ni55\",\"ni56\",\"ni58\",\"ni59\",\"ni60\",\n",
    "                              \"ni61\",\"ni62\",\"ni63\",\"ni64\",\"ni66\",\"ni67\",\"ni68\",\"ni69\",\"ni70\",\"cu57\"])\n",
    "\n",
    "rc = pyna.RateCollection(libraries=sub)"
   ]
  },
  {
   "cell_type": "code",
   "execution_count": 3,
   "id": "b08b4f53",
   "metadata": {},
   "outputs": [],
   "source": [
    "rho_1 = 1e7\n",
    "ye_s = np.linspace(0.4,0.6,80)\n",
    "temp_1 = 9.0e9\n",
    "X_s_1 = []\n",
    "\n",
    "for i, ye in enumerate(ye_s):\n",
    "    nse_comp_1 = rc.get_comp_NSE(rho_1, temp_1, ye, init_guess=[-6.0,-11.5], tell_sol=False)\n",
    "    nse_X_s_1 = [nse_comp_1.X[nuc] for nuc in nse_comp_1.X]\n",
    "    X_s_1.append(nse_X_s_1)"
   ]
  },
  {
   "cell_type": "code",
   "execution_count": 4,
   "id": "a6a0456f",
   "metadata": {},
   "outputs": [
    {
     "data": {
      "image/png": "[encoded data removed]",
      "text/plain": [
       "<Figure size 720x504 with 1 Axes>"
      ]
     },
     "metadata": {
      "needs_background": "light"
     },
     "output_type": "display_data"
    }
   ],
   "source": [
    "X_s_1 = np.array(X_s_1)\n",
    "nuc_names = rc.get_nuclei()\n",
    "\n",
    "fig = plt.figure(figsize=(10,7))\n",
    "ax = fig.add_subplot(111)\n",
    "for k in range(len(nuc_names)):\n",
    "    line, = ax.plot(ye_s, X_s_1[:,k])\n",
    "    if (max(X_s_1[:,k]) > 0.01):\n",
    "        line.set_label(str(nuc_names[k]))\n",
    "ax.legend(loc = \"best\")\n",
    "ax.set_xlabel('ye')\n",
    "ax.set_ylabel('Mass Fraction')\n",
    "ax.set_yscale('log')\n",
    "ax.set_ylim([0.01,1])\n",
    "ax.set_title(r\"$\\rho = 1e7$ and $T=9e9$\")\n",
    "plt.savefig(\"nse_fig1.pdf\", format=\"pdf\")"
   ]
  },
  {
   "cell_type": "code",
   "execution_count": null,
   "id": "b8b1b292",
   "metadata": {},
   "outputs": [],
   "source": [
    "rho_2 = 1e7\n",
    "ye_s = np.linspace(0.4,0.6,100)\n",
    "temp_2 = 6.5e9\n",
    "X_s_2 = []\n",
    "\n",
    "for i, ye in enumerate(ye_s):\n",
    "    nse_comp_2 = rc.get_comp_NSE(rho_2, temp_2, ye, init_guess=[-6.0,-11.5], tell_sol=False)\n",
    "    nse_X_s_2 = [nse_comp_2.X[nuc] for nuc in nse_comp_2.X]\n",
    "    X_s_2.append(nse_X_s_2)"
   ]
  },
  {
   "cell_type": "code",
   "execution_count": null,
   "id": "cbac4c93",
   "metadata": {},
   "outputs": [],
   "source": [
    "X_s_2 = np.array(X_s_2)\n",
    "nuc_names = rc.get_nuclei()\n",
    "\n",
    "paper_nucs =[\"n\", \"p\", \"he4\", \"si28\", \"s32\", \"cr52\", \"fe52\", \"fe54\", \"fe56\", \"fe58\",\n",
    "             \"co55\", \"ni56\", \"ni58\", \"ni64\", \"ni66\", \"ni68\", \"ni70\"]\n",
    "paper_nucs = list(map(pyna.Nucleus, paper_nucs))\n",
    "\n",
    "\n",
    "low_limit = 1e-5\n",
    "fig = plt.figure(figsize=(10,7))\n",
    "ax = fig.add_subplot(111)\n",
    "for k in range(len(nuc_names)):\n",
    "    if (nuc_names[k] not in paper_nucs):\n",
    "        continue\n",
    "    line, = ax.plot(ye_s, X_s_2[:,k])\n",
    "    if (max(X_s_2[:,k]) > low_limit):\n",
    "        line.set_label(str(nuc_names[k]))\n",
    "\n",
    "ax.legend(loc = \"upper right\")\n",
    "ax.set_xlabel('electron fraction')\n",
    "ax.set_ylabel('Mass Fraction')\n",
    "ax.set_yscale('log')\n",
    "ax.set_ylim([low_limit,1.1])\n",
    "ax.set_title(r\"T = 6.5e9, $\\rho = 1e7$\")\n",
    "plt.savefig(\"nse_fig2.pdf\", format=\"pdf\")"
   ]
  },
  {
   "cell_type": "code",
   "execution_count": null,
   "id": "933b767d",
   "metadata": {},
   "outputs": [],
   "source": [
    "rho_3 = 1e7\n",
    "ye_s = np.linspace(0.4,0.6,120)\n",
    "temp_3 = 3.5e9\n",
    "X_s_3 = []\n",
    "\n",
    "for i, ye in enumerate(ye_s):\n",
    "    nse_comp_3 = rc.get_comp_NSE(rho_3, temp_3, ye, init_guess=[-6.0,-11.5], tell_sol=False)\n",
    "    nse_X_s_3 = [nse_comp_3.X[nuc] for nuc in nse_comp_3.X]\n",
    "    X_s_3.append(nse_X_s_3)"
   ]
  },
  {
   "cell_type": "code",
   "execution_count": null,
   "id": "771a86aa",
   "metadata": {},
   "outputs": [],
   "source": [
    "X_s_3 = np.array(X_s_3)\n",
    "nuc_names = rc.get_nuclei()\n",
    "\n",
    "paper_nucs = [\"p\", \"n\", \"he4\", \"cr52\", \"fe52\", \"fe54\", \"fe56\", \"fe58\", \"co53\", \"co55\", \"ni55\", \"cu57\",\n",
    "             \"ni56\", \"ni58\", \"ni64\", \"ni66\", \"ni68\", \"ni70\"]\n",
    "paper_nucs = list(map(pyna.Nucleus, paper_nucs))\n",
    "\n",
    "low_limit = 1e-5\n",
    "fig = plt.figure(figsize=(12,13))\n",
    "ax = fig.add_subplot(211)\n",
    "ax1 = fig.add_subplot(212)\n",
    "for k in range(len(nuc_names)):\n",
    "    if nuc_names[k] in paper_nucs:\n",
    "        line1, = ax1.plot(ye_s, X_s_3[:,k])\n",
    "        if (max(X_s_3[:,k]) > low_limit):\n",
    "            line1.set_label(str(nuc_names[k]))\n",
    "            \n",
    "    line, = ax.plot(ye_s, X_s_3[:,k])\n",
    "    if (max(X_s_3[:,k]) > low_limit):\n",
    "        line.set_label(str(nuc_names[k]))\n",
    "\n",
    "ax.legend(loc = \"upper right\", prop={'size':10},ncol=2)\n",
    "ax.set_xlabel('electron fraction')\n",
    "ax.set_ylabel('Mass Fraction')\n",
    "ax.set_yscale('log')\n",
    "ax.set_ylim([low_limit,1.1])\n",
    "ax.set_title(r\"T = 3.5e9, $\\rho = 1e7$\")\n",
    "\n",
    "ax1.legend(loc = \"upper right\")\n",
    "ax1.set_xlabel('electron fraction')\n",
    "ax1.set_ylabel('Mass Fraction')\n",
    "ax1.set_yscale('log')\n",
    "ax1.set_ylim([low_limit,1.1])\n",
    "ax1.set_title(r\"T = 3.5e9, $\\rho = 1e7$, cleaned\")\n",
    "\n",
    "plt.savefig(\"nse_fig3.pdf\", format=\"pdf\")"
   ]
  },
  {
   "cell_type": "code",
   "execution_count": null,
   "id": "9b204356",
   "metadata": {},
   "outputs": [],
   "source": [
    "rho = 1e7\n",
    "ye = 0.5\n",
    "temps = np.linspace(2.5, 12.0, 100)\n",
    "X_s = []\n",
    "\n",
    "for i, temp in enumerate(temps):\n",
    "    nse_comp = rc.get_comp_NSE(rho, temp*1.0e9, ye, init_guess=[-6.0,-11.5], tell_sol=False)\n",
    "    nse_X_s = [nse_comp.X[nuc] for nuc in nse_comp.X]\n",
    "    X_s.append(nse_X_s)"
   ]
  },
  {
   "cell_type": "code",
   "execution_count": null,
   "id": "31ccb0ce",
   "metadata": {},
   "outputs": [],
   "source": [
    "X_s = np.array(X_s)\n",
    "nuc_names = rc.get_nuclei()\n",
    "\n",
    "paper_nucs = [\"p\", \"n\", \"he4\", \"ni56\", \"fe54\", \"fe56\"]\n",
    "paper_nucs = list(map(pyna.Nucleus, paper_nucs))\n",
    "\n",
    "low_limit = 1e-2\n",
    "fig = plt.figure(figsize=(11,12))\n",
    "ax = fig.add_subplot(211)\n",
    "ax1 = fig.add_subplot(212)\n",
    "for k in range(len(nuc_names)):\n",
    "    if nuc_names[k] in paper_nucs:\n",
    "        line1, = ax1.plot(temps, X_s[:,k])\n",
    "        if (max(X_s[:,k]) > low_limit):\n",
    "            line1.set_label(str(nuc_names[k]))\n",
    "            \n",
    "    line, = ax.plot(temps, X_s[:,k])\n",
    "    if (max(X_s[:,k]) > low_limit):\n",
    "        line.set_label(str(nuc_names[k]))\n",
    "\n",
    "ax.legend(loc = \"upper right\")\n",
    "ax.set_xlabel(r'Temp $[\\times 10^9 K]$')\n",
    "ax.set_ylabel('Mass Fraction')\n",
    "ax.set_yscale('log')\n",
    "ax.set_ylim([low_limit,1.1])\n",
    "ax.set_title(r\"$Y_e = 0.5$, $\\rho = 1e7$\")\n",
    "\n",
    "ax1.legend(loc = \"upper right\")\n",
    "ax1.set_xlabel(r'Temp $[\\times 10^9 K]$')\n",
    "ax1.set_ylabel('Mass Fraction')\n",
    "ax1.set_yscale('log')\n",
    "ax1.set_ylim([low_limit,1.1])\n",
    "ax1.set_title(r\"$Y_e = 0.5$, $\\rho = 1e7, cleaned$\")\n",
    "\n",
    "plt.savefig(\"nse_fig4.pdf\", format=\"pdf\")"
   ]
  },
  {
   "cell_type": "code",
   "execution_count": null,
   "id": "2da808ca",
   "metadata": {},
   "outputs": [],
   "source": [
    "# Here we show a simpler network\n",
    "\n",
    "sub_aprox21 = library.linking_nuclei(['cr48', 'mn51', 'fe52', 'ni56', 'p', 'n', 'he4', 'co55',\n",
    "              'fe54','fe55', 'fe56', 'cr56', 'mn56'])\n",
    "\n",
    "rc_aprox21 = pyna.RateCollection(libraries=sub)\n",
    "\n",
    "comp = rc_aprox21.get_comp_NSE(1e7,5e9,0.5)\n",
    "comp.plot()\n",
    "print(comp)"
   ]
  }
 ],
 "metadata": {
  "kernelspec": {
   "display_name": "Python 3 (ipykernel)",
   "language": "python",
   "name": "python3"
  },
  "language_info": {
   "codemirror_mode": {
    "name": "ipython",
    "version": 3
   },
   "file_extension": ".py",
   "mimetype": "text/x-python",
   "name": "python",
   "nbconvert_exporter": "python",
   "pygments_lexer": "ipython3",
   "version": "3.10.6"
  }
 },
 "nbformat": 4,
 "nbformat_minor": 5
}
